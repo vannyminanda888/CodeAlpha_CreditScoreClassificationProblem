{
 "cells": [
  {
   "cell_type": "code",
   "execution_count": 1,
   "id": "8a0a18db",
   "metadata": {},
   "outputs": [],
   "source": [
    "import pandas as pd\n",
    "import numpy as np\n",
    "import matplotlib.pyplot as plt\n",
    "import sys\n",
    "import os\n",
    "import seaborn as sns\n",
    "from sklearn.preprocessing import OneHotEncoder\n",
    "from sklearn.model_selection import train_test_split"
   ]
  },
  {
   "cell_type": "code",
   "execution_count": 2,
   "id": "b50bcab1",
   "metadata": {},
   "outputs": [],
   "source": [
    "data = pd.read_csv(\"Credit Score Classification Dataset.csv\")"
   ]
  },
  {
   "cell_type": "markdown",
   "id": "31b1b4df",
   "metadata": {},
   "source": [
    "# Exploratory Data Analysis"
   ]
  },
  {
   "cell_type": "code",
   "execution_count": 3,
   "id": "52475860",
   "metadata": {},
   "outputs": [
    {
     "name": "stdout",
     "output_type": "stream",
     "text": [
      "<class 'pandas.core.frame.DataFrame'>\n",
      "RangeIndex: 164 entries, 0 to 163\n",
      "Data columns (total 8 columns):\n",
      " #   Column              Non-Null Count  Dtype \n",
      "---  ------              --------------  ----- \n",
      " 0   Age                 164 non-null    int64 \n",
      " 1   Gender              164 non-null    object\n",
      " 2   Income              164 non-null    int64 \n",
      " 3   Education           164 non-null    object\n",
      " 4   Marital Status      164 non-null    object\n",
      " 5   Number of Children  164 non-null    int64 \n",
      " 6   Home Ownership      164 non-null    object\n",
      " 7   Credit Score        164 non-null    object\n",
      "dtypes: int64(3), object(5)\n",
      "memory usage: 10.4+ KB\n"
     ]
    }
   ],
   "source": [
    "data.info()"
   ]
  },
  {
   "cell_type": "code",
   "execution_count": 4,
   "id": "01909ba1",
   "metadata": {},
   "outputs": [
    {
     "data": {
      "image/png": "[encoded data removed]",
      "text/plain": [
       "<Figure size 432x288 with 1 Axes>"
      ]
     },
     "metadata": {
      "needs_background": "light"
     },
     "output_type": "display_data"
    }
   ],
   "source": [
    "# Plotting the count of each credit score class\n",
    "sns.countplot(x='Credit Score', data=data)\n",
    "plt.title('Credit Score Class Distribution')\n",
    "plt.xlabel('Credit Score Class')\n",
    "plt.ylabel('Count')\n",
    "plt.show()"
   ]
  },
  {
   "cell_type": "markdown",
   "id": "9a1845ca",
   "metadata": {},
   "source": [
    "#### this data shows that this is an imbalance problem. we need to be careful!"
   ]
  },
  {
   "cell_type": "code",
   "execution_count": 5,
   "id": "31e37a6e",
   "metadata": {},
   "outputs": [
    {
     "data": {
      "text/plain": [
       "<bound method NDFrame.describe of      Age  Gender  Income            Education Marital Status  \\\n",
       "0     25  Female   50000    Bachelor's Degree         Single   \n",
       "1     30    Male  100000      Master's Degree        Married   \n",
       "2     35  Female   75000            Doctorate        Married   \n",
       "3     40    Male  125000  High School Diploma         Single   \n",
       "4     45  Female  100000    Bachelor's Degree        Married   \n",
       "..   ...     ...     ...                  ...            ...   \n",
       "159   29  Female   27500  High School Diploma         Single   \n",
       "160   34    Male   47500   Associate's Degree         Single   \n",
       "161   39  Female   62500    Bachelor's Degree        Married   \n",
       "162   44    Male   87500      Master's Degree         Single   \n",
       "163   49  Female   77500            Doctorate        Married   \n",
       "\n",
       "     Number of Children Home Ownership Credit Score  \n",
       "0                     0         Rented         High  \n",
       "1                     2          Owned         High  \n",
       "2                     1          Owned         High  \n",
       "3                     0          Owned         High  \n",
       "4                     3          Owned         High  \n",
       "..                  ...            ...          ...  \n",
       "159                   0         Rented          Low  \n",
       "160                   0         Rented      Average  \n",
       "161                   2          Owned         High  \n",
       "162                   0          Owned         High  \n",
       "163                   1          Owned         High  \n",
       "\n",
       "[164 rows x 8 columns]>"
      ]
     },
     "execution_count": 5,
     "metadata": {},
     "output_type": "execute_result"
    }
   ],
   "source": [
    "data.describe"
   ]
  },
  {
   "cell_type": "code",
   "execution_count": 6,
   "id": "d0dd6d2c",
   "metadata": {},
   "outputs": [
    {
     "name": "stdout",
     "output_type": "stream",
     "text": [
      "Owned     111\n",
      "Rented     53\n",
      "Name: Home Ownership, dtype: int64\n"
     ]
    }
   ],
   "source": [
    "print(data['Home Ownership'].value_counts())"
   ]
  },
  {
   "cell_type": "code",
   "execution_count": 7,
   "id": "d4b6489f",
   "metadata": {},
   "outputs": [
    {
     "name": "stdout",
     "output_type": "stream",
     "text": [
      "feature Age\n",
      "25    9\n",
      "35    9\n",
      "30    9\n",
      "31    6\n",
      "33    6\n",
      "32    6\n",
      "29    6\n",
      "26    6\n",
      "34    6\n",
      "28    6\n",
      "52    5\n",
      "53    5\n",
      "48    5\n",
      "43    5\n",
      "38    5\n",
      "39    5\n",
      "44    5\n",
      "37    5\n",
      "47    5\n",
      "42    5\n",
      "27    5\n",
      "51    5\n",
      "46    5\n",
      "41    5\n",
      "36    5\n",
      "50    5\n",
      "45    5\n",
      "40    5\n",
      "49    5\n",
      "Name: Age, dtype: int64\n",
      "feature Gender\n",
      "Female    86\n",
      "Male      78\n",
      "Name: Gender, dtype: int64\n",
      "feature Income\n",
      "85000     8\n",
      "57500     7\n",
      "105000    7\n",
      "90000     7\n",
      "95000     7\n",
      "77500     5\n",
      "67500     5\n",
      "87500     5\n",
      "62500     5\n",
      "47500     5\n",
      "27500     4\n",
      "110000    4\n",
      "32500     4\n",
      "130000    4\n",
      "52500     4\n",
      "65000     4\n",
      "55000     4\n",
      "37500     4\n",
      "80000     4\n",
      "60000     4\n",
      "75000     4\n",
      "100000    4\n",
      "92500     3\n",
      "112500    3\n",
      "117500    3\n",
      "50000     3\n",
      "70000     3\n",
      "45000     3\n",
      "115000    3\n",
      "125000    3\n",
      "140000    2\n",
      "97500     2\n",
      "142500    2\n",
      "72500     2\n",
      "135000    2\n",
      "150000    2\n",
      "122500    2\n",
      "82500     2\n",
      "155000    2\n",
      "35000     1\n",
      "30000     1\n",
      "40000     1\n",
      "25000     1\n",
      "160000    1\n",
      "145000    1\n",
      "162500    1\n",
      "120000    1\n",
      "102500    1\n",
      "137500    1\n",
      "127500    1\n",
      "82000     1\n",
      "68000     1\n",
      "Name: Income, dtype: int64\n",
      "feature Education\n",
      "Bachelor's Degree      42\n",
      "Master's Degree        36\n",
      "Doctorate              31\n",
      "High School Diploma    30\n",
      "Associate's Degree     25\n",
      "Name: Education, dtype: int64\n",
      "feature Marital Status\n",
      "Married    87\n",
      "Single     77\n",
      "Name: Marital Status, dtype: int64\n",
      "feature Number of Children\n",
      "0    97\n",
      "1    32\n",
      "2    30\n",
      "3     5\n",
      "Name: Number of Children, dtype: int64\n",
      "feature Home Ownership\n",
      "Owned     111\n",
      "Rented     53\n",
      "Name: Home Ownership, dtype: int64\n",
      "feature Credit Score\n",
      "High       113\n",
      "Average     36\n",
      "Low         15\n",
      "Name: Credit Score, dtype: int64\n"
     ]
    }
   ],
   "source": [
    "for column in data.columns:\n",
    "    print(f\"feature {column}\")\n",
    "    print(data[f'{column}'].value_counts())"
   ]
  },
  {
   "cell_type": "markdown",
   "id": "188f170d",
   "metadata": {},
   "source": [
    "# Data Preprocessing:\n",
    "### Step 1. Converting Categorical Features into Numerical\n"
   ]
  },
  {
   "cell_type": "code",
   "execution_count": 8,
   "id": "0347b746",
   "metadata": {},
   "outputs": [],
   "source": [
    "# Education Feature:\n",
    "education_mapping = {\n",
    "    \"High School Diploma\": 0,\n",
    "    \"Associate's Degree\": 1,\n",
    "    \"Bachelor's Degree\": 2,\n",
    "    \"Master's Degree\": 3,\n",
    "    \"Doctorate\": 4\n",
    "}\n",
    "data['Education'] = data['Education'].map(education_mapping)"
   ]
  },
  {
   "cell_type": "code",
   "execution_count": 9,
   "id": "48ae9a39",
   "metadata": {},
   "outputs": [
    {
     "data": {
      "text/html": [
       "<div>\n",
       "<style scoped>\n",
       "    .dataframe tbody tr th:only-of-type {\n",
       "        vertical-align: middle;\n",
       "    }\n",
       "\n",
       "    .dataframe tbody tr th {\n",
       "        vertical-align: top;\n",
       "    }\n",
       "\n",
       "    .dataframe thead th {\n",
       "        text-align: right;\n",
       "    }\n",
       "</style>\n",
       "<table border=\"1\" class=\"dataframe\">\n",
       "  <thead>\n",
       "    <tr style=\"text-align: right;\">\n",
       "      <th></th>\n",
       "      <th>Age</th>\n",
       "      <th>Gender</th>\n",
       "      <th>Income</th>\n",
       "      <th>Education</th>\n",
       "      <th>Marital Status</th>\n",
       "      <th>Number of Children</th>\n",
       "      <th>Home Ownership</th>\n",
       "      <th>Credit Score</th>\n",
       "    </tr>\n",
       "  </thead>\n",
       "  <tbody>\n",
       "    <tr>\n",
       "      <th>0</th>\n",
       "      <td>25</td>\n",
       "      <td>Female</td>\n",
       "      <td>50000</td>\n",
       "      <td>2</td>\n",
       "      <td>Single</td>\n",
       "      <td>0</td>\n",
       "      <td>Rented</td>\n",
       "      <td>High</td>\n",
       "    </tr>\n",
       "    <tr>\n",
       "      <th>1</th>\n",
       "      <td>30</td>\n",
       "      <td>Male</td>\n",
       "      <td>100000</td>\n",
       "      <td>3</td>\n",
       "      <td>Married</td>\n",
       "      <td>2</td>\n",
       "      <td>Owned</td>\n",
       "      <td>High</td>\n",
       "    </tr>\n",
       "    <tr>\n",
       "      <th>2</th>\n",
       "      <td>35</td>\n",
       "      <td>Female</td>\n",
       "      <td>75000</td>\n",
       "      <td>4</td>\n",
       "      <td>Married</td>\n",
       "      <td>1</td>\n",
       "      <td>Owned</td>\n",
       "      <td>High</td>\n",
       "    </tr>\n",
       "    <tr>\n",
       "      <th>3</th>\n",
       "      <td>40</td>\n",
       "      <td>Male</td>\n",
       "      <td>125000</td>\n",
       "      <td>0</td>\n",
       "      <td>Single</td>\n",
       "      <td>0</td>\n",
       "      <td>Owned</td>\n",
       "      <td>High</td>\n",
       "    </tr>\n",
       "    <tr>\n",
       "      <th>4</th>\n",
       "      <td>45</td>\n",
       "      <td>Female</td>\n",
       "      <td>100000</td>\n",
       "      <td>2</td>\n",
       "      <td>Married</td>\n",
       "      <td>3</td>\n",
       "      <td>Owned</td>\n",
       "      <td>High</td>\n",
       "    </tr>\n",
       "    <tr>\n",
       "      <th>...</th>\n",
       "      <td>...</td>\n",
       "      <td>...</td>\n",
       "      <td>...</td>\n",
       "      <td>...</td>\n",
       "      <td>...</td>\n",
       "      <td>...</td>\n",
       "      <td>...</td>\n",
       "      <td>...</td>\n",
       "    </tr>\n",
       "    <tr>\n",
       "      <th>159</th>\n",
       "      <td>29</td>\n",
       "      <td>Female</td>\n",
       "      <td>27500</td>\n",
       "      <td>0</td>\n",
       "      <td>Single</td>\n",
       "      <td>0</td>\n",
       "      <td>Rented</td>\n",
       "      <td>Low</td>\n",
       "    </tr>\n",
       "    <tr>\n",
       "      <th>160</th>\n",
       "      <td>34</td>\n",
       "      <td>Male</td>\n",
       "      <td>47500</td>\n",
       "      <td>1</td>\n",
       "      <td>Single</td>\n",
       "      <td>0</td>\n",
       "      <td>Rented</td>\n",
       "      <td>Average</td>\n",
       "    </tr>\n",
       "    <tr>\n",
       "      <th>161</th>\n",
       "      <td>39</td>\n",
       "      <td>Female</td>\n",
       "      <td>62500</td>\n",
       "      <td>2</td>\n",
       "      <td>Married</td>\n",
       "      <td>2</td>\n",
       "      <td>Owned</td>\n",
       "      <td>High</td>\n",
       "    </tr>\n",
       "    <tr>\n",
       "      <th>162</th>\n",
       "      <td>44</td>\n",
       "      <td>Male</td>\n",
       "      <td>87500</td>\n",
       "      <td>3</td>\n",
       "      <td>Single</td>\n",
       "      <td>0</td>\n",
       "      <td>Owned</td>\n",
       "      <td>High</td>\n",
       "    </tr>\n",
       "    <tr>\n",
       "      <th>163</th>\n",
       "      <td>49</td>\n",
       "      <td>Female</td>\n",
       "      <td>77500</td>\n",
       "      <td>4</td>\n",
       "      <td>Married</td>\n",
       "      <td>1</td>\n",
       "      <td>Owned</td>\n",
       "      <td>High</td>\n",
       "    </tr>\n",
       "  </tbody>\n",
       "</table>\n",
       "<p>164 rows × 8 columns</p>\n",
       "</div>"
      ],
      "text/plain": [
       "     Age  Gender  Income  Education Marital Status  Number of Children  \\\n",
       "0     25  Female   50000          2         Single                   0   \n",
       "1     30    Male  100000          3        Married                   2   \n",
       "2     35  Female   75000          4        Married                   1   \n",
       "3     40    Male  125000          0         Single                   0   \n",
       "4     45  Female  100000          2        Married                   3   \n",
       "..   ...     ...     ...        ...            ...                 ...   \n",
       "159   29  Female   27500          0         Single                   0   \n",
       "160   34    Male   47500          1         Single                   0   \n",
       "161   39  Female   62500          2        Married                   2   \n",
       "162   44    Male   87500          3         Single                   0   \n",
       "163   49  Female   77500          4        Married                   1   \n",
       "\n",
       "    Home Ownership Credit Score  \n",
       "0           Rented         High  \n",
       "1            Owned         High  \n",
       "2            Owned         High  \n",
       "3            Owned         High  \n",
       "4            Owned         High  \n",
       "..             ...          ...  \n",
       "159         Rented          Low  \n",
       "160         Rented      Average  \n",
       "161          Owned         High  \n",
       "162          Owned         High  \n",
       "163          Owned         High  \n",
       "\n",
       "[164 rows x 8 columns]"
      ]
     },
     "execution_count": 9,
     "metadata": {},
     "output_type": "execute_result"
    }
   ],
   "source": [
    "data"
   ]
  },
  {
   "cell_type": "code",
   "execution_count": 10,
   "id": "c4619341",
   "metadata": {},
   "outputs": [],
   "source": [
    "# marital status feature\n",
    "\n",
    "encoder = OneHotEncoder(sparse=False)  # sparse=False returns a dense array\n",
    "encoded = encoder.fit_transform(data[['Marital Status']])\n",
    "encoded_df = pd.DataFrame(encoded, columns=encoder.get_feature_names(['Marital Status']))\n",
    "data = pd.concat([data.drop(columns=['Marital Status']), encoded_df], axis=1)"
   ]
  },
  {
   "cell_type": "code",
   "execution_count": 11,
   "id": "5381fea5",
   "metadata": {},
   "outputs": [],
   "source": [
    "# gender feature\n",
    "\n",
    "encoder = OneHotEncoder(sparse=False)  # sparse=False returns a dense array\n",
    "encoded = encoder.fit_transform(data[['Gender']])\n",
    "encoded_df = pd.DataFrame(encoded, columns=encoder.get_feature_names(['Gender']))\n",
    "data = pd.concat([data.drop(columns=['Gender']), encoded_df], axis=1)"
   ]
  },
  {
   "cell_type": "code",
   "execution_count": 12,
   "id": "f3269eec",
   "metadata": {},
   "outputs": [],
   "source": [
    "# home ownership feature\n",
    "\n",
    "encoder = OneHotEncoder(sparse=False)  # sparse=False returns a dense array\n",
    "encoded = encoder.fit_transform(data[['Home Ownership']])\n",
    "encoded_df = pd.DataFrame(encoded, columns=encoder.get_feature_names(['Home Ownership']))\n",
    "data = pd.concat([data.drop(columns=['Home Ownership']), encoded_df], axis=1)"
   ]
  },
  {
   "cell_type": "code",
   "execution_count": 13,
   "id": "fffcb0f1",
   "metadata": {},
   "outputs": [
    {
     "data": {
      "text/html": [
       "<div>\n",
       "<style scoped>\n",
       "    .dataframe tbody tr th:only-of-type {\n",
       "        vertical-align: middle;\n",
       "    }\n",
       "\n",
       "    .dataframe tbody tr th {\n",
       "        vertical-align: top;\n",
       "    }\n",
       "\n",
       "    .dataframe thead th {\n",
       "        text-align: right;\n",
       "    }\n",
       "</style>\n",
       "<table border=\"1\" class=\"dataframe\">\n",
       "  <thead>\n",
       "    <tr style=\"text-align: right;\">\n",
       "      <th></th>\n",
       "      <th>Age</th>\n",
       "      <th>Income</th>\n",
       "      <th>Education</th>\n",
       "      <th>Number of Children</th>\n",
       "      <th>Credit Score</th>\n",
       "      <th>Marital Status_Married</th>\n",
       "      <th>Marital Status_Single</th>\n",
       "      <th>Gender_Female</th>\n",
       "      <th>Gender_Male</th>\n",
       "      <th>Home Ownership_Owned</th>\n",
       "      <th>Home Ownership_Rented</th>\n",
       "    </tr>\n",
       "  </thead>\n",
       "  <tbody>\n",
       "    <tr>\n",
       "      <th>0</th>\n",
       "      <td>25</td>\n",
       "      <td>50000</td>\n",
       "      <td>2</td>\n",
       "      <td>0</td>\n",
       "      <td>High</td>\n",
       "      <td>0.0</td>\n",
       "      <td>1.0</td>\n",
       "      <td>1.0</td>\n",
       "      <td>0.0</td>\n",
       "      <td>0.0</td>\n",
       "      <td>1.0</td>\n",
       "    </tr>\n",
       "    <tr>\n",
       "      <th>1</th>\n",
       "      <td>30</td>\n",
       "      <td>100000</td>\n",
       "      <td>3</td>\n",
       "      <td>2</td>\n",
       "      <td>High</td>\n",
       "      <td>1.0</td>\n",
       "      <td>0.0</td>\n",
       "      <td>0.0</td>\n",
       "      <td>1.0</td>\n",
       "      <td>1.0</td>\n",
       "      <td>0.0</td>\n",
       "    </tr>\n",
       "    <tr>\n",
       "      <th>2</th>\n",
       "      <td>35</td>\n",
       "      <td>75000</td>\n",
       "      <td>4</td>\n",
       "      <td>1</td>\n",
       "      <td>High</td>\n",
       "      <td>1.0</td>\n",
       "      <td>0.0</td>\n",
       "      <td>1.0</td>\n",
       "      <td>0.0</td>\n",
       "      <td>1.0</td>\n",
       "      <td>0.0</td>\n",
       "    </tr>\n",
       "    <tr>\n",
       "      <th>3</th>\n",
       "      <td>40</td>\n",
       "      <td>125000</td>\n",
       "      <td>0</td>\n",
       "      <td>0</td>\n",
       "      <td>High</td>\n",
       "      <td>0.0</td>\n",
       "      <td>1.0</td>\n",
       "      <td>0.0</td>\n",
       "      <td>1.0</td>\n",
       "      <td>1.0</td>\n",
       "      <td>0.0</td>\n",
       "    </tr>\n",
       "    <tr>\n",
       "      <th>4</th>\n",
       "      <td>45</td>\n",
       "      <td>100000</td>\n",
       "      <td>2</td>\n",
       "      <td>3</td>\n",
       "      <td>High</td>\n",
       "      <td>1.0</td>\n",
       "      <td>0.0</td>\n",
       "      <td>1.0</td>\n",
       "      <td>0.0</td>\n",
       "      <td>1.0</td>\n",
       "      <td>0.0</td>\n",
       "    </tr>\n",
       "    <tr>\n",
       "      <th>...</th>\n",
       "      <td>...</td>\n",
       "      <td>...</td>\n",
       "      <td>...</td>\n",
       "      <td>...</td>\n",
       "      <td>...</td>\n",
       "      <td>...</td>\n",
       "      <td>...</td>\n",
       "      <td>...</td>\n",
       "      <td>...</td>\n",
       "      <td>...</td>\n",
       "      <td>...</td>\n",
       "    </tr>\n",
       "    <tr>\n",
       "      <th>159</th>\n",
       "      <td>29</td>\n",
       "      <td>27500</td>\n",
       "      <td>0</td>\n",
       "      <td>0</td>\n",
       "      <td>Low</td>\n",
       "      <td>0.0</td>\n",
       "      <td>1.0</td>\n",
       "      <td>1.0</td>\n",
       "      <td>0.0</td>\n",
       "      <td>0.0</td>\n",
       "      <td>1.0</td>\n",
       "    </tr>\n",
       "    <tr>\n",
       "      <th>160</th>\n",
       "      <td>34</td>\n",
       "      <td>47500</td>\n",
       "      <td>1</td>\n",
       "      <td>0</td>\n",
       "      <td>Average</td>\n",
       "      <td>0.0</td>\n",
       "      <td>1.0</td>\n",
       "      <td>0.0</td>\n",
       "      <td>1.0</td>\n",
       "      <td>0.0</td>\n",
       "      <td>1.0</td>\n",
       "    </tr>\n",
       "    <tr>\n",
       "      <th>161</th>\n",
       "      <td>39</td>\n",
       "      <td>62500</td>\n",
       "      <td>2</td>\n",
       "      <td>2</td>\n",
       "      <td>High</td>\n",
       "      <td>1.0</td>\n",
       "      <td>0.0</td>\n",
       "      <td>1.0</td>\n",
       "      <td>0.0</td>\n",
       "      <td>1.0</td>\n",
       "      <td>0.0</td>\n",
       "    </tr>\n",
       "    <tr>\n",
       "      <th>162</th>\n",
       "      <td>44</td>\n",
       "      <td>87500</td>\n",
       "      <td>3</td>\n",
       "      <td>0</td>\n",
       "      <td>High</td>\n",
       "      <td>0.0</td>\n",
       "      <td>1.0</td>\n",
       "      <td>0.0</td>\n",
       "      <td>1.0</td>\n",
       "      <td>1.0</td>\n",
       "      <td>0.0</td>\n",
       "    </tr>\n",
       "    <tr>\n",
       "      <th>163</th>\n",
       "      <td>49</td>\n",
       "      <td>77500</td>\n",
       "      <td>4</td>\n",
       "      <td>1</td>\n",
       "      <td>High</td>\n",
       "      <td>1.0</td>\n",
       "      <td>0.0</td>\n",
       "      <td>1.0</td>\n",
       "      <td>0.0</td>\n",
       "      <td>1.0</td>\n",
       "      <td>0.0</td>\n",
       "    </tr>\n",
       "  </tbody>\n",
       "</table>\n",
       "<p>164 rows × 11 columns</p>\n",
       "</div>"
      ],
      "text/plain": [
       "     Age  Income  Education  Number of Children Credit Score  \\\n",
       "0     25   50000          2                   0         High   \n",
       "1     30  100000          3                   2         High   \n",
       "2     35   75000          4                   1         High   \n",
       "3     40  125000          0                   0         High   \n",
       "4     45  100000          2                   3         High   \n",
       "..   ...     ...        ...                 ...          ...   \n",
       "159   29   27500          0                   0          Low   \n",
       "160   34   47500          1                   0      Average   \n",
       "161   39   62500          2                   2         High   \n",
       "162   44   87500          3                   0         High   \n",
       "163   49   77500          4                   1         High   \n",
       "\n",
       "     Marital Status_Married  Marital Status_Single  Gender_Female  \\\n",
       "0                       0.0                    1.0            1.0   \n",
       "1                       1.0                    0.0            0.0   \n",
       "2                       1.0                    0.0            1.0   \n",
       "3                       0.0                    1.0            0.0   \n",
       "4                       1.0                    0.0            1.0   \n",
       "..                      ...                    ...            ...   \n",
       "159                     0.0                    1.0            1.0   \n",
       "160                     0.0                    1.0            0.0   \n",
       "161                     1.0                    0.0            1.0   \n",
       "162                     0.0                    1.0            0.0   \n",
       "163                     1.0                    0.0            1.0   \n",
       "\n",
       "     Gender_Male  Home Ownership_Owned  Home Ownership_Rented  \n",
       "0            0.0                   0.0                    1.0  \n",
       "1            1.0                   1.0                    0.0  \n",
       "2            0.0                   1.0                    0.0  \n",
       "3            1.0                   1.0                    0.0  \n",
       "4            0.0                   1.0                    0.0  \n",
       "..           ...                   ...                    ...  \n",
       "159          0.0                   0.0                    1.0  \n",
       "160          1.0                   0.0                    1.0  \n",
       "161          0.0                   1.0                    0.0  \n",
       "162          1.0                   1.0                    0.0  \n",
       "163          0.0                   1.0                    0.0  \n",
       "\n",
       "[164 rows x 11 columns]"
      ]
     },
     "execution_count": 13,
     "metadata": {},
     "output_type": "execute_result"
    }
   ],
   "source": [
    "data"
   ]
  },
  {
   "cell_type": "code",
   "execution_count": 14,
   "id": "a4088abb",
   "metadata": {},
   "outputs": [],
   "source": [
    "# Now Since credit score is the target variable, i will just change it to numerical value with target encoding\n",
    "target_variable_mapping = {\n",
    "    \"High\": 0,\n",
    "    \"Average\": 1,\n",
    "    \"Low\": 2\n",
    "}\n",
    "data['Credit Score'] = data['Credit Score'].map(target_variable_mapping)"
   ]
  },
  {
   "cell_type": "code",
   "execution_count": 15,
   "id": "7f94e98d",
   "metadata": {},
   "outputs": [
    {
     "data": {
      "text/html": [
       "<div>\n",
       "<style scoped>\n",
       "    .dataframe tbody tr th:only-of-type {\n",
       "        vertical-align: middle;\n",
       "    }\n",
       "\n",
       "    .dataframe tbody tr th {\n",
       "        vertical-align: top;\n",
       "    }\n",
       "\n",
       "    .dataframe thead th {\n",
       "        text-align: right;\n",
       "    }\n",
       "</style>\n",
       "<table border=\"1\" class=\"dataframe\">\n",
       "  <thead>\n",
       "    <tr style=\"text-align: right;\">\n",
       "      <th></th>\n",
       "      <th>Age</th>\n",
       "      <th>Income</th>\n",
       "      <th>Education</th>\n",
       "      <th>Number of Children</th>\n",
       "      <th>Credit Score</th>\n",
       "      <th>Marital Status_Married</th>\n",
       "      <th>Marital Status_Single</th>\n",
       "      <th>Gender_Female</th>\n",
       "      <th>Gender_Male</th>\n",
       "      <th>Home Ownership_Owned</th>\n",
       "      <th>Home Ownership_Rented</th>\n",
       "    </tr>\n",
       "  </thead>\n",
       "  <tbody>\n",
       "    <tr>\n",
       "      <th>0</th>\n",
       "      <td>25</td>\n",
       "      <td>50000</td>\n",
       "      <td>2</td>\n",
       "      <td>0</td>\n",
       "      <td>0</td>\n",
       "      <td>0.0</td>\n",
       "      <td>1.0</td>\n",
       "      <td>1.0</td>\n",
       "      <td>0.0</td>\n",
       "      <td>0.0</td>\n",
       "      <td>1.0</td>\n",
       "    </tr>\n",
       "    <tr>\n",
       "      <th>1</th>\n",
       "      <td>30</td>\n",
       "      <td>100000</td>\n",
       "      <td>3</td>\n",
       "      <td>2</td>\n",
       "      <td>0</td>\n",
       "      <td>1.0</td>\n",
       "      <td>0.0</td>\n",
       "      <td>0.0</td>\n",
       "      <td>1.0</td>\n",
       "      <td>1.0</td>\n",
       "      <td>0.0</td>\n",
       "    </tr>\n",
       "    <tr>\n",
       "      <th>2</th>\n",
       "      <td>35</td>\n",
       "      <td>75000</td>\n",
       "      <td>4</td>\n",
       "      <td>1</td>\n",
       "      <td>0</td>\n",
       "      <td>1.0</td>\n",
       "      <td>0.0</td>\n",
       "      <td>1.0</td>\n",
       "      <td>0.0</td>\n",
       "      <td>1.0</td>\n",
       "      <td>0.0</td>\n",
       "    </tr>\n",
       "    <tr>\n",
       "      <th>3</th>\n",
       "      <td>40</td>\n",
       "      <td>125000</td>\n",
       "      <td>0</td>\n",
       "      <td>0</td>\n",
       "      <td>0</td>\n",
       "      <td>0.0</td>\n",
       "      <td>1.0</td>\n",
       "      <td>0.0</td>\n",
       "      <td>1.0</td>\n",
       "      <td>1.0</td>\n",
       "      <td>0.0</td>\n",
       "    </tr>\n",
       "    <tr>\n",
       "      <th>4</th>\n",
       "      <td>45</td>\n",
       "      <td>100000</td>\n",
       "      <td>2</td>\n",
       "      <td>3</td>\n",
       "      <td>0</td>\n",
       "      <td>1.0</td>\n",
       "      <td>0.0</td>\n",
       "      <td>1.0</td>\n",
       "      <td>0.0</td>\n",
       "      <td>1.0</td>\n",
       "      <td>0.0</td>\n",
       "    </tr>\n",
       "    <tr>\n",
       "      <th>...</th>\n",
       "      <td>...</td>\n",
       "      <td>...</td>\n",
       "      <td>...</td>\n",
       "      <td>...</td>\n",
       "      <td>...</td>\n",
       "      <td>...</td>\n",
       "      <td>...</td>\n",
       "      <td>...</td>\n",
       "      <td>...</td>\n",
       "      <td>...</td>\n",
       "      <td>...</td>\n",
       "    </tr>\n",
       "    <tr>\n",
       "      <th>159</th>\n",
       "      <td>29</td>\n",
       "      <td>27500</td>\n",
       "      <td>0</td>\n",
       "      <td>0</td>\n",
       "      <td>2</td>\n",
       "      <td>0.0</td>\n",
       "      <td>1.0</td>\n",
       "      <td>1.0</td>\n",
       "      <td>0.0</td>\n",
       "      <td>0.0</td>\n",
       "      <td>1.0</td>\n",
       "    </tr>\n",
       "    <tr>\n",
       "      <th>160</th>\n",
       "      <td>34</td>\n",
       "      <td>47500</td>\n",
       "      <td>1</td>\n",
       "      <td>0</td>\n",
       "      <td>1</td>\n",
       "      <td>0.0</td>\n",
       "      <td>1.0</td>\n",
       "      <td>0.0</td>\n",
       "      <td>1.0</td>\n",
       "      <td>0.0</td>\n",
       "      <td>1.0</td>\n",
       "    </tr>\n",
       "    <tr>\n",
       "      <th>161</th>\n",
       "      <td>39</td>\n",
       "      <td>62500</td>\n",
       "      <td>2</td>\n",
       "      <td>2</td>\n",
       "      <td>0</td>\n",
       "      <td>1.0</td>\n",
       "      <td>0.0</td>\n",
       "      <td>1.0</td>\n",
       "      <td>0.0</td>\n",
       "      <td>1.0</td>\n",
       "      <td>0.0</td>\n",
       "    </tr>\n",
       "    <tr>\n",
       "      <th>162</th>\n",
       "      <td>44</td>\n",
       "      <td>87500</td>\n",
       "      <td>3</td>\n",
       "      <td>0</td>\n",
       "      <td>0</td>\n",
       "      <td>0.0</td>\n",
       "      <td>1.0</td>\n",
       "      <td>0.0</td>\n",
       "      <td>1.0</td>\n",
       "      <td>1.0</td>\n",
       "      <td>0.0</td>\n",
       "    </tr>\n",
       "    <tr>\n",
       "      <th>163</th>\n",
       "      <td>49</td>\n",
       "      <td>77500</td>\n",
       "      <td>4</td>\n",
       "      <td>1</td>\n",
       "      <td>0</td>\n",
       "      <td>1.0</td>\n",
       "      <td>0.0</td>\n",
       "      <td>1.0</td>\n",
       "      <td>0.0</td>\n",
       "      <td>1.0</td>\n",
       "      <td>0.0</td>\n",
       "    </tr>\n",
       "  </tbody>\n",
       "</table>\n",
       "<p>164 rows × 11 columns</p>\n",
       "</div>"
      ],
      "text/plain": [
       "     Age  Income  Education  Number of Children  Credit Score  \\\n",
       "0     25   50000          2                   0             0   \n",
       "1     30  100000          3                   2             0   \n",
       "2     35   75000          4                   1             0   \n",
       "3     40  125000          0                   0             0   \n",
       "4     45  100000          2                   3             0   \n",
       "..   ...     ...        ...                 ...           ...   \n",
       "159   29   27500          0                   0             2   \n",
       "160   34   47500          1                   0             1   \n",
       "161   39   62500          2                   2             0   \n",
       "162   44   87500          3                   0             0   \n",
       "163   49   77500          4                   1             0   \n",
       "\n",
       "     Marital Status_Married  Marital Status_Single  Gender_Female  \\\n",
       "0                       0.0                    1.0            1.0   \n",
       "1                       1.0                    0.0            0.0   \n",
       "2                       1.0                    0.0            1.0   \n",
       "3                       0.0                    1.0            0.0   \n",
       "4                       1.0                    0.0            1.0   \n",
       "..                      ...                    ...            ...   \n",
       "159                     0.0                    1.0            1.0   \n",
       "160                     0.0                    1.0            0.0   \n",
       "161                     1.0                    0.0            1.0   \n",
       "162                     0.0                    1.0            0.0   \n",
       "163                     1.0                    0.0            1.0   \n",
       "\n",
       "     Gender_Male  Home Ownership_Owned  Home Ownership_Rented  \n",
       "0            0.0                   0.0                    1.0  \n",
       "1            1.0                   1.0                    0.0  \n",
       "2            0.0                   1.0                    0.0  \n",
       "3            1.0                   1.0                    0.0  \n",
       "4            0.0                   1.0                    0.0  \n",
       "..           ...                   ...                    ...  \n",
       "159          0.0                   0.0                    1.0  \n",
       "160          1.0                   0.0                    1.0  \n",
       "161          0.0                   1.0                    0.0  \n",
       "162          1.0                   1.0                    0.0  \n",
       "163          0.0                   1.0                    0.0  \n",
       "\n",
       "[164 rows x 11 columns]"
      ]
     },
     "execution_count": 15,
     "metadata": {},
     "output_type": "execute_result"
    }
   ],
   "source": [
    "data"
   ]
  },
  {
   "cell_type": "markdown",
   "id": "7447f9de",
   "metadata": {},
   "source": [
    "# Splitting the training and validation set"
   ]
  },
  {
   "cell_type": "code",
   "execution_count": 16,
   "id": "8fd32ebb",
   "metadata": {},
   "outputs": [],
   "source": [
    "# y is the target label\n",
    "y = data['Credit Score']\n",
    "\n",
    "# X is everything except the target\n",
    "X = data.drop('Credit Score', axis=1)"
   ]
  },
  {
   "cell_type": "code",
   "execution_count": 56,
   "id": "11268ec9",
   "metadata": {},
   "outputs": [],
   "source": [
    "X_train, X_test, y_train, y_test = train_test_split(\n",
    "    X, y,\n",
    "    test_size=0.3,       # 40% for testing\n",
    "    random_state=42,     # for reproducibility\n",
    "    stratify=y           # preserves label distribution (important for classification)\n",
    ")"
   ]
  },
  {
   "cell_type": "code",
   "execution_count": 57,
   "id": "6a6f37b4",
   "metadata": {},
   "outputs": [
    {
     "name": "stdout",
     "output_type": "stream",
     "text": [
      "(114, 10)\n"
     ]
    }
   ],
   "source": [
    "print(X_train.shape)"
   ]
  },
  {
   "cell_type": "code",
   "execution_count": 58,
   "id": "b18966ac",
   "metadata": {},
   "outputs": [],
   "source": [
    "def plot_conf_matrix(conf_matrix):\n",
    "    plt.figure(figsize=(8, 6))\n",
    "    sns.heatmap(conf_matrix, annot=True, fmt='g', cmap='Blues', xticklabels=['Low', 'Average', 'High'], yticklabels=['Low', 'Average', 'High'])\n",
    "    plt.xlabel('Predicted')\n",
    "    plt.ylabel('Actual')\n",
    "    plt.title('Confusion Matrix')\n",
    "    plt.show()"
   ]
  },
  {
   "cell_type": "markdown",
   "id": "e715f457",
   "metadata": {},
   "source": [
    "# Logistic Regression"
   ]
  },
  {
   "cell_type": "code",
   "execution_count": 59,
   "id": "4069989b",
   "metadata": {},
   "outputs": [
    {
     "name": "stdout",
     "output_type": "stream",
     "text": [
      "Accuracy: 0.88\n",
      "\n",
      "Classification Report:\n",
      "               precision    recall  f1-score   support\n",
      "\n",
      "           0       0.97      0.97      0.97        34\n",
      "           1       0.75      0.82      0.78        11\n",
      "           2       0.50      0.40      0.44         5\n",
      "\n",
      "    accuracy                           0.88        50\n",
      "   macro avg       0.74      0.73      0.73        50\n",
      "weighted avg       0.88      0.88      0.88        50\n",
      "\n"
     ]
    },
    {
     "data": {
      "image/png": "[encoded data removed]",
      "text/plain": [
       "<Figure size 576x432 with 2 Axes>"
      ]
     },
     "metadata": {
      "needs_background": "light"
     },
     "output_type": "display_data"
    }
   ],
   "source": [
    "from sklearn.linear_model import LogisticRegression\n",
    "from sklearn.metrics import classification_report, accuracy_score\n",
    "from sklearn.metrics import confusion_matrix, ConfusionMatrixDisplay\n",
    "\n",
    "# 1. Initialize the model\n",
    "model = LogisticRegression(max_iter=1000, solver='lbfgs', multi_class='multinomial')\n",
    "\n",
    "# 2. Train the model\n",
    "model.fit(X_train, y_train)\n",
    "\n",
    "# 3. Make predictions\n",
    "y_pred = model.predict(X_test)\n",
    "\n",
    "# 4. Evaluate the model\n",
    "print(\"Accuracy:\", accuracy_score(y_test, y_pred))\n",
    "print(\"\\nClassification Report:\\n\", classification_report(y_test, y_pred))\n",
    "\n",
    "# 1. Get the confusion matrix\n",
    "cm1 = confusion_matrix(y_test, y_pred)\n",
    "plot_conf_matrix(cm1)"
   ]
  },
  {
   "cell_type": "code",
   "execution_count": 60,
   "id": "f8b5ac25",
   "metadata": {},
   "outputs": [
    {
     "data": {
      "image/png": "[encoded data removed]",
      "text/plain": [
       "<Figure size 720x432 with 1 Axes>"
      ]
     },
     "metadata": {
      "needs_background": "light"
     },
     "output_type": "display_data"
    },
    {
     "data": {
      "image/png": "[encoded data removed]",
      "text/plain": [
       "<Figure size 720x432 with 1 Axes>"
      ]
     },
     "metadata": {
      "needs_background": "light"
     },
     "output_type": "display_data"
    },
    {
     "data": {
      "image/png": "[encoded data removed]",
      "text/plain": [
       "<Figure size 720x432 with 1 Axes>"
      ]
     },
     "metadata": {
      "needs_background": "light"
     },
     "output_type": "display_data"
    }
   ],
   "source": [
    "feature_names = X_train.columns\n",
    "for i, class_label in enumerate(model.classes_):\n",
    "    importance = pd.Series(model.coef_[i], index=feature_names)\n",
    "    importance.sort_values(ascending=True).plot(kind='barh', figsize=(10, 6))\n",
    "    plt.title(f\"Feature Importance for Class: {class_label}\")\n",
    "    plt.xlabel(\"Coefficient Value\")\n",
    "    plt.tight_layout()\n",
    "    plt.show()"
   ]
  },
  {
   "cell_type": "code",
   "execution_count": 61,
   "id": "5a0cd93b",
   "metadata": {},
   "outputs": [
    {
     "name": "stdout",
     "output_type": "stream",
     "text": [
      "Logistic Regression Feature Importance:\n",
      "Number of Children        0.292202\n",
      "Home Ownership_Owned      0.280563\n",
      "Education                 0.228441\n",
      "Marital Status_Married    0.212878\n",
      "Income                    0.000797\n",
      "Gender_Female            -0.090572\n",
      "Gender_Male              -0.109817\n",
      "Marital Status_Single    -0.413267\n",
      "Home Ownership_Rented    -0.480952\n",
      "Age                      -1.108037\n",
      "dtype: float64\n"
     ]
    },
    {
     "data": {
      "image/png": "[encoded data removed]",
      "text/plain": [
       "<Figure size 720x432 with 1 Axes>"
      ]
     },
     "metadata": {
      "needs_background": "light"
     },
     "output_type": "display_data"
    }
   ],
   "source": [
    "feature_names = X_train.columns\n",
    "importance_logreg = pd.Series(model.coef_[0], index=feature_names)\n",
    "importance_logreg = importance_logreg.sort_values(ascending=False)\n",
    "\n",
    "print(\"Logistic Regression Feature Importance:\")\n",
    "print(importance_logreg)\n",
    "\n",
    "# Optional: visualize\n",
    "import matplotlib.pyplot as plt\n",
    "\n",
    "plt.figure(figsize=(10, 6))\n",
    "importance_logreg.plot(kind='barh')\n",
    "plt.title(\"Feature Importance (Logistic Regression)\")\n",
    "plt.xlabel(\"Coefficient Value\")\n",
    "plt.show()"
   ]
  },
  {
   "cell_type": "markdown",
   "id": "405c2264",
   "metadata": {},
   "source": [
    "# Decision Tree 1.0"
   ]
  },
  {
   "cell_type": "code",
   "execution_count": 68,
   "id": "30792810",
   "metadata": {},
   "outputs": [
    {
     "name": "stdout",
     "output_type": "stream",
     "text": [
      "Accuracy: 0.96\n",
      "\n",
      "Classification Report:\n",
      "               precision    recall  f1-score   support\n",
      "\n",
      "           0       1.00      0.97      0.99        34\n",
      "           1       0.91      0.91      0.91        11\n",
      "           2       0.83      1.00      0.91         5\n",
      "\n",
      "    accuracy                           0.96        50\n",
      "   macro avg       0.91      0.96      0.93        50\n",
      "weighted avg       0.96      0.96      0.96        50\n",
      "\n"
     ]
    },
    {
     "data": {
      "image/png": "[encoded data removed]",
      "text/plain": [
       "<Figure size 576x432 with 2 Axes>"
      ]
     },
     "metadata": {
      "needs_background": "light"
     },
     "output_type": "display_data"
    }
   ],
   "source": [
    "from sklearn.tree import DecisionTreeClassifier\n",
    "from sklearn.metrics import classification_report, accuracy_score\n",
    "\n",
    "# 1. Initialize the model\n",
    "dt_model = DecisionTreeClassifier(random_state=42)\n",
    "\n",
    "# 2. Train the model\n",
    "dt_model.fit(X_train, y_train)\n",
    "\n",
    "# 3. Make predictions\n",
    "y_pred_dt = dt_model.predict(X_test)\n",
    "\n",
    "# 4. Evaluate the model\n",
    "print(\"Accuracy:\", accuracy_score(y_test, y_pred_dt))\n",
    "print(\"\\nClassification Report:\\n\", classification_report(y_test, y_pred_dt))\n",
    "\n",
    "# 1. Get the confusion matrix\n",
    "cm2 = confusion_matrix(y_test, y_pred_dt)\n",
    "plot_conf_matrix(cm2)"
   ]
  },
  {
   "cell_type": "markdown",
   "id": "4f9f8034",
   "metadata": {},
   "source": [
    "### Decision Tree Feature Importance:\n"
   ]
  },
  {
   "cell_type": "code",
   "execution_count": 63,
   "id": "687c1082",
   "metadata": {},
   "outputs": [
    {
     "name": "stdout",
     "output_type": "stream",
     "text": [
      "Index(['Age', 'Income', 'Education', 'Number of Children',\n",
      "       'Marital Status_Married', 'Marital Status_Single', 'Gender_Female',\n",
      "       'Gender_Male', 'Home Ownership_Owned', 'Home Ownership_Rented'],\n",
      "      dtype='object')\n"
     ]
    },
    {
     "data": {
      "image/png": "[encoded data removed]",
      "text/plain": [
       "<Figure size 720x432 with 1 Axes>"
      ]
     },
     "metadata": {
      "needs_background": "light"
     },
     "output_type": "display_data"
    }
   ],
   "source": [
    "importances = dt_model.feature_importances_\n",
    "\n",
    "# Get feature names\n",
    "feature_names = X_train.columns\n",
    "print(feature_names)\n",
    "# Create a DataFrame for easy plotting\n",
    "feat_imp_df = pd.DataFrame({\n",
    "    'Feature': feature_names,\n",
    "    'Importance': importances\n",
    "}).sort_values(by='Importance', ascending=False)\n",
    "\n",
    "# Plot the feature importances\n",
    "plt.figure(figsize=(10, 6))\n",
    "plt.barh(feat_imp_df['Feature'], feat_imp_df['Importance'])\n",
    "plt.gca().invert_yaxis()\n",
    "plt.xlabel(\"Importance\")\n",
    "plt.title(\"Decision Tree Feature Importances\")\n",
    "plt.show()"
   ]
  },
  {
   "cell_type": "code",
   "execution_count": 64,
   "id": "f49b4fea",
   "metadata": {},
   "outputs": [],
   "source": [
    "# Select important features\n",
    "important_features = feat_imp_df[feat_imp_df['Importance'] > 0.1]['Feature'].tolist()\n",
    "\n",
    "# Filter your train/test data\n",
    "X_train_reduced = X_train[important_features]\n",
    "X_test_reduced = X_test[important_features]"
   ]
  },
  {
   "cell_type": "code",
   "execution_count": 65,
   "id": "28dc1ee1",
   "metadata": {},
   "outputs": [],
   "source": [
    "# Train again on reduced feature set\n",
    "dt_model.fit(X_train_reduced, y_train)\n",
    "y_pred1_2 = dt_model.predict(X_test_reduced)"
   ]
  },
  {
   "cell_type": "code",
   "execution_count": 66,
   "id": "ec4ca8b7",
   "metadata": {},
   "outputs": [
    {
     "name": "stdout",
     "output_type": "stream",
     "text": [
      "Accuracy: 0.98\n",
      "\n",
      "Classification Report:\n",
      "               precision    recall  f1-score   support\n",
      "\n",
      "           0       1.00      1.00      1.00        34\n",
      "           1       1.00      0.91      0.95        11\n",
      "           2       0.83      1.00      0.91         5\n",
      "\n",
      "    accuracy                           0.98        50\n",
      "   macro avg       0.94      0.97      0.95        50\n",
      "weighted avg       0.98      0.98      0.98        50\n",
      "\n"
     ]
    },
    {
     "data": {
      "image/png": "[encoded data removed]",
      "text/plain": [
       "<Figure size 576x432 with 2 Axes>"
      ]
     },
     "metadata": {
      "needs_background": "light"
     },
     "output_type": "display_data"
    }
   ],
   "source": [
    "# 4. Evaluate the model\n",
    "print(\"Accuracy:\", accuracy_score(y_test, y_pred1_2))\n",
    "print(\"\\nClassification Report:\\n\", classification_report(y_test, y_pred1_2))\n",
    "\n",
    "# 1. Get the confusion matrix\n",
    "cm1_2 = confusion_matrix(y_test, y_pred1_2)\n",
    "plot_conf_matrix(cm1_2)"
   ]
  },
  {
   "cell_type": "markdown",
   "id": "39a8d890",
   "metadata": {},
   "source": [
    "# Decision Tree 2.0 -> adding weight to handle imbalanced"
   ]
  },
  {
   "cell_type": "code",
   "execution_count": 69,
   "id": "e52988ad",
   "metadata": {},
   "outputs": [
    {
     "name": "stdout",
     "output_type": "stream",
     "text": [
      "Accuracy: 0.96\n",
      "\n",
      "Classification Report:\n",
      "               precision    recall  f1-score   support\n",
      "\n",
      "           0       1.00      0.97      0.99        34\n",
      "           1       0.91      0.91      0.91        11\n",
      "           2       0.83      1.00      0.91         5\n",
      "\n",
      "    accuracy                           0.96        50\n",
      "   macro avg       0.91      0.96      0.93        50\n",
      "weighted avg       0.96      0.96      0.96        50\n",
      "\n"
     ]
    },
    {
     "data": {
      "image/png": "[encoded data removed]",
      "text/plain": [
       "<Figure size 576x432 with 2 Axes>"
      ]
     },
     "metadata": {
      "needs_background": "light"
     },
     "output_type": "display_data"
    }
   ],
   "source": [
    "# 1. Initialize the model\n",
    "dt_model_2 = DecisionTreeClassifier(random_state=42, class_weight='balanced')\n",
    "\n",
    "# 2. Train the model\n",
    "dt_model_2.fit(X_train, y_train)\n",
    "\n",
    "# 3. Make predictions\n",
    "y_pred_dt_2 = dt_model.predict(X_test)\n",
    "\n",
    "# 4. Evaluate the model\n",
    "print(\"Accuracy:\", accuracy_score(y_test, y_pred_dt_2))\n",
    "print(\"\\nClassification Report:\\n\", classification_report(y_test, y_pred_dt_2))\n",
    "\n",
    "# 1. Get the confusion matrix\n",
    "cm2_2 = confusion_matrix(y_test, y_pred_dt_2)\n",
    "plot_conf_matrix(cm2_2)"
   ]
  },
  {
   "cell_type": "markdown",
   "id": "866cfeee",
   "metadata": {},
   "source": [
    "# Random Forest"
   ]
  },
  {
   "cell_type": "code",
   "execution_count": 70,
   "id": "3d2decdf",
   "metadata": {},
   "outputs": [
    {
     "name": "stdout",
     "output_type": "stream",
     "text": [
      "Accuracy: 0.96\n",
      "\n",
      "Classification Report:\n",
      "               precision    recall  f1-score   support\n",
      "\n",
      "           0       1.00      0.97      0.99        34\n",
      "           1       0.91      0.91      0.91        11\n",
      "           2       0.83      1.00      0.91         5\n",
      "\n",
      "    accuracy                           0.96        50\n",
      "   macro avg       0.91      0.96      0.93        50\n",
      "weighted avg       0.96      0.96      0.96        50\n",
      "\n"
     ]
    },
    {
     "data": {
      "image/png": "[encoded data removed]",
      "text/plain": [
       "<Figure size 576x432 with 2 Axes>"
      ]
     },
     "metadata": {
      "needs_background": "light"
     },
     "output_type": "display_data"
    }
   ],
   "source": [
    "from sklearn.ensemble import RandomForestClassifier\n",
    "from sklearn.metrics import classification_report, accuracy_score\n",
    "\n",
    "# 1. Initialize the model\n",
    "rf_model = RandomForestClassifier(random_state=42, n_estimators=100)\n",
    "\n",
    "# 2. Train the model\n",
    "rf_model.fit(X_train, y_train)\n",
    "\n",
    "# 3. Make predictions\n",
    "y_pred_rf = rf_model.predict(X_test)\n",
    "\n",
    "# 4. Evaluate the model\n",
    "print(\"Accuracy:\", accuracy_score(y_test, y_pred_rf))\n",
    "print(\"\\nClassification Report:\\n\", classification_report(y_test, y_pred_rf))\n",
    "\n",
    "# 5. Get the confusion matrix\n",
    "cm3 = confusion_matrix(y_test, y_pred_rf)\n",
    "plot_conf_matrix(cm3)"
   ]
  },
  {
   "cell_type": "markdown",
   "id": "f510a022",
   "metadata": {},
   "source": [
    "# Random Forest with Class Weight to Handle the Imbalance Dataset"
   ]
  },
  {
   "cell_type": "code",
   "execution_count": 71,
   "id": "cc35fb6a",
   "metadata": {},
   "outputs": [
    {
     "name": "stdout",
     "output_type": "stream",
     "text": [
      "Accuracy: 0.98\n",
      "\n",
      "Classification Report:\n",
      "               precision    recall  f1-score   support\n",
      "\n",
      "           0       1.00      1.00      1.00        34\n",
      "           1       1.00      0.91      0.95        11\n",
      "           2       0.83      1.00      0.91         5\n",
      "\n",
      "    accuracy                           0.98        50\n",
      "   macro avg       0.94      0.97      0.95        50\n",
      "weighted avg       0.98      0.98      0.98        50\n",
      "\n"
     ]
    },
    {
     "data": {
      "image/png": "[encoded data removed]",
      "text/plain": [
       "<Figure size 576x432 with 2 Axes>"
      ]
     },
     "metadata": {
      "needs_background": "light"
     },
     "output_type": "display_data"
    }
   ],
   "source": [
    "# 1. Initialize the model with class_weight='balanced'\n",
    "rf_model = RandomForestClassifier(\n",
    "    random_state=42,\n",
    "    n_estimators=100,\n",
    "    class_weight='balanced'  # Automatically adjusts weights inversely proportional to class frequencies\n",
    ")\n",
    "\n",
    "# 2. Train the model\n",
    "rf_model.fit(X_train, y_train)\n",
    "\n",
    "# 3. Make predictions\n",
    "y_pred_rf_weight = rf_model.predict(X_test)\n",
    "\n",
    "# 4. Evaluate the model\n",
    "print(\"Accuracy:\", accuracy_score(y_test, y_pred_rf_weight))\n",
    "print(\"\\nClassification Report:\\n\", classification_report(y_test, y_pred_rf_weight))\n",
    "\n",
    "# 5. Confusion Matrix\n",
    "cm4 = confusion_matrix(y_test, y_pred_rf_weight)\n",
    "plot_conf_matrix(cm4)"
   ]
  },
  {
   "cell_type": "markdown",
   "id": "17712f60",
   "metadata": {},
   "source": [
    "# Random Forest with Reduced Features\n"
   ]
  },
  {
   "cell_type": "code",
   "execution_count": 72,
   "id": "a1d250e1",
   "metadata": {},
   "outputs": [],
   "source": [
    "# Train again on reduced feature set\n",
    "dt_model.fit(X_train_reduced, y_train)\n",
    "y_pred14_2 = dt_model.predict(X_test_reduced)"
   ]
  },
  {
   "cell_type": "code",
   "execution_count": 73,
   "id": "efda2a71",
   "metadata": {},
   "outputs": [
    {
     "name": "stdout",
     "output_type": "stream",
     "text": [
      "Accuracy: 0.98\n",
      "\n",
      "Classification Report:\n",
      "               precision    recall  f1-score   support\n",
      "\n",
      "           0       1.00      1.00      1.00        34\n",
      "           1       1.00      0.91      0.95        11\n",
      "           2       0.83      1.00      0.91         5\n",
      "\n",
      "    accuracy                           0.98        50\n",
      "   macro avg       0.94      0.97      0.95        50\n",
      "weighted avg       0.98      0.98      0.98        50\n",
      "\n"
     ]
    },
    {
     "data": {
      "image/png": "[encoded data removed]",
      "text/plain": [
       "<Figure size 576x432 with 2 Axes>"
      ]
     },
     "metadata": {
      "needs_background": "light"
     },
     "output_type": "display_data"
    }
   ],
   "source": [
    "# 4. Evaluate the model\n",
    "print(\"Accuracy:\", accuracy_score(y_test, y_pred14_2))\n",
    "print(\"\\nClassification Report:\\n\", classification_report(y_test, y_pred14_2))\n",
    "\n",
    "# 5. Confusion Matrix\n",
    "cm5 = confusion_matrix(y_test, y_pred14_2)\n",
    "plot_conf_matrix(cm5)"
   ]
  },
  {
   "cell_type": "markdown",
   "id": "b2571df2",
   "metadata": {},
   "source": [
    "🧪 Experiment Summary: \n",
    "\n",
    "* Credit Score Classification\n",
    "\n",
    "* Logistic Regression (both basic and with class weights) performed the worst, with lower accuracy compared to tree-based models.\n",
    "\n",
    "* Decision Tree and Random Forest classifiers showed strong performance, **achieving around 96% accuracy**.\n",
    "\n",
    "* When **class weights** were applied to handle class imbalance in both Decision Tree and Random Forest models, **performance further improved, reaching up to 98% accuracy**.\n",
    "\n",
    "* Feature selection (using only important features) did not improve model performance. **The reduced feature set resulted in a consistent 96% accuracy**, similar to the original full-feature models.\n",
    "\n"
   ]
  },
  {
   "cell_type": "code",
   "execution_count": null,
   "id": "4e2e6fb2",
   "metadata": {},
   "outputs": [],
   "source": []
  },
  {
   "cell_type": "code",
   "execution_count": null,
   "id": "4de248cd",
   "metadata": {},
   "outputs": [],
   "source": []
  }
 ],
 "metadata": {
  "kernelspec": {
   "display_name": "Python 3 (ipykernel)",
   "language": "python",
   "name": "python3"
  },
  "language_info": {
   "codemirror_mode": {
    "name": "ipython",
    "version": 3
   },
   "file_extension": ".py",
   "mimetype": "text/x-python",
   "name": "python",
   "nbconvert_exporter": "python",
   "pygments_lexer": "ipython3",
   "version": "3.9.7"
  }
 },
 "nbformat": 4,
 "nbformat_minor": 5
}
